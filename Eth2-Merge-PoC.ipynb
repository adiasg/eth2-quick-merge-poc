{
 "cells": [
  {
   "cell_type": "markdown",
   "metadata": {},
   "source": [
    "# Ethereum 2.0 Merge Proof-of-Concept\n",
    "\n",
    "This notebook provides a proof-of-concept for the [Ethereum 2.0 Quick Merge Proposal](https://notes.ethereum.org/@vbuterin/B1mUf6DXO). A notable difference from the proposal is that Eth2 blocks in this PoC only contain Eth1 block hashes, instead of complete Eth1 blocks.\n",
    "\n",
    "An unchanged Eth1 spec (from `py-evm`) has been used here.\n",
    "The Eth2 spec has been slightly modified, and can be found in [this branch on `eth2.0-specs`](https://github.com/ethereum/eth2.0-specs/compare/adiasg-quick-merge-poc).\n",
    "\n",
    "## Prerequisites\n",
    "- Python3, Jupyter Notebook\n",
    "- Run `install.sh` to:\n",
    "    - download and install Eth1 & Eth2 python modules in a venv.\n",
    "    - install the venv as a kernel (named `merge-spec-poc`) for Jupyter notebook.\n",
    "- Choose the `merge-spec-poc` kernel to execute this Jupyter notebook.\n",
    "\n",
    "## Other Merge Specification Efforts\n",
    "- Mikhail Kalinin: https://github.com/ethereum/eth2.0-specs/pull/2257"
   ]
  },
  {
   "cell_type": "code",
   "execution_count": 16,
   "metadata": {
    "scrolled": true
   },
   "outputs": [
    {
     "output_type": "error",
     "ename": "TypeError",
     "evalue": "print_eth1_block() missing 1 required positional argument: 'eth1_rpc'",
     "traceback": [
      "\u001b[0;31m---------------------------------------------------------------------------\u001b[0m",
      "\u001b[0;31mTypeError\u001b[0m                                 Traceback (most recent call last)",
      "\u001b[0;32m<ipython-input-16-92c5ab20c4c9>\u001b[0m in \u001b[0;36m<module>\u001b[0;34m\u001b[0m\n\u001b[1;32m     11\u001b[0m \u001b[0;31m# Build a short Eth1 chain\u001b[0m\u001b[0;34m\u001b[0m\u001b[0;34m\u001b[0m\u001b[0;34m\u001b[0m\u001b[0m\n\u001b[1;32m     12\u001b[0m \u001b[0meth1_blocks\u001b[0m \u001b[0;34m=\u001b[0m \u001b[0;34m[\u001b[0m\u001b[0meth1_rpc\u001b[0m\u001b[0;34m.\u001b[0m\u001b[0mconsensus_assembleBlock\u001b[0m\u001b[0;34m(\u001b[0m\u001b[0;34m)\u001b[0m \u001b[0;32mfor\u001b[0m \u001b[0mi\u001b[0m \u001b[0;32min\u001b[0m \u001b[0mrange\u001b[0m\u001b[0;34m(\u001b[0m\u001b[0;36m9\u001b[0m\u001b[0;34m)\u001b[0m\u001b[0;34m]\u001b[0m\u001b[0;34m\u001b[0m\u001b[0;34m\u001b[0m\u001b[0m\n\u001b[0;32m---> 13\u001b[0;31m \u001b[0mprint_eth1_block\u001b[0m\u001b[0;34m(\u001b[0m\u001b[0meth1_blocks\u001b[0m\u001b[0;34m[\u001b[0m\u001b[0;34m-\u001b[0m\u001b[0;36m1\u001b[0m\u001b[0;34m]\u001b[0m\u001b[0;34m)\u001b[0m\u001b[0;34m\u001b[0m\u001b[0;34m\u001b[0m\u001b[0m\n\u001b[0m",
      "\u001b[0;31mTypeError\u001b[0m: print_eth1_block() missing 1 required positional argument: 'eth1_rpc'"
     ]
    }
   ],
   "source": [
    "from eth1 import Eth1Rpc\n",
    "from eth.chains.base import MiningChain, Chain\n",
    "from eth.vm.forks import IstanbulVM\n",
    "import eth.tools.builder.chain as builder\n",
    "        \n",
    "# Initialize Eth1 chain builder\n",
    "Eth1Chain = builder.build(MiningChain, builder.fork_at(IstanbulVM, 0))\n",
    "Eth1Chain = builder.enable_pow_mining(Eth1Chain)\n",
    "eth1_rpc = Eth1Rpc(Eth1Chain)\n",
    "\n",
    "# Build a short Eth1 chain\n",
    "eth1_blocks = [eth1_rpc.consensus_assembleBlock() for i in range(9)]\n",
    "print_eth1_block(eth1_blocks[-1])"
   ]
  },
  {
   "cell_type": "code",
   "execution_count": 3,
   "metadata": {},
   "outputs": [],
   "source": [
    "import eth2spec.phase0.spec as spec\n",
    "\n",
    "# Fill in the Eth1 RPC functions into the Eth2 state transition logic\n",
    "\n",
    "def _is_valid_eth1_block(eth1_block_hash: spec.Bytes32) -> bool:\n",
    "    assert eth1_rpc.is_accepted_block(eth1_block_hash)\n",
    "    assert eth1_rpc.get_score(eth1_block_hash) >= spec.TRANSITION_TOTAL_DIFFICULTY\n",
    "    return True\n",
    "\n",
    "def _is_eth1_parent_block(parent_block_hash: spec.Bytes32, current_block_hash: spec.Bytes32) -> bool:\n",
    "    assert eth1_rpc.is_parent_block(parent_block_hash, current_block_hash)\n",
    "    return True\n",
    "\n",
    "spec.is_valid_eth1_block = _is_valid_eth1_block\n",
    "spec.is_eth1_parent_block = _is_eth1_parent_block"
   ]
  },
  {
   "cell_type": "code",
   "execution_count": 4,
   "metadata": {},
   "outputs": [],
   "source": [
    "# Eth2 chain building tools\n",
    "from eth2spec.test.helpers import genesis\n",
    "\n",
    "genesis_state = genesis.create_genesis_state(spec, [32*10**9 for i in range(100)], 16*10**9)\n",
    "genesis_block = spec.BeaconBlock(state_root=genesis_state.hash_tree_root())\n",
    "store = spec.get_forkchoice_store(genesis_state, genesis_block)"
   ]
  },
  {
   "cell_type": "code",
   "execution_count": 5,
   "metadata": {},
   "outputs": [
    {
     "output_type": "stream",
     "name": "stdout",
     "text": [
      "Eth2 State:\n\tSlot: 37\n\tPrev. Eth1 Block: 0x0000000000000000000000000000000000000000000000000000000000000000\n"
     ]
    }
   ],
   "source": [
    "from eth2spec.test.helpers.block import build_empty_block_for_next_slot, sign_block\n",
    "from eth2spec.test.helpers.state import state_transition_and_sign_block, next_epoch\n",
    "\n",
    "# Push the Eth2 state to some arbitraty slot\n",
    "time = spec.SECONDS_PER_SLOT * 1000\n",
    "spec.on_tick(store, time)\n",
    "state = genesis_state.copy()\n",
    "next_epoch(spec, state)\n",
    "\n",
    "# Build a short Eth2 chain\n",
    "for i in range(5):\n",
    "    block = build_empty_block_for_next_slot(spec, state)\n",
    "    block.body.application_block_hash = spec.ZERO_HASH\n",
    "    signed_block = state_transition_and_sign_block(spec, state, block)\n",
    "\n",
    "def print_eth2_state(state):\n",
    "    print(\"Eth2 State:\")\n",
    "    print(f\"\\tSlot: {state.slot}\")\n",
    "    print(f\"\\tPrev. Eth1 Block: {state.previous_application_block_hash}\")\n",
    "    if state.previous_application_block_hash != spec.ZERO_HASH:\n",
    "        print_eth1_block(eth1_rpc.chain.get_block_by_hash(state.previous_application_block_hash), \"\\t\")\n",
    "\n",
    "# This is the Eth2 state before the merge\n",
    "print_eth2_state(state)"
   ]
  },
  {
   "cell_type": "code",
   "execution_count": 6,
   "metadata": {},
   "outputs": [
    {
     "output_type": "stream",
     "name": "stdout",
     "text": [
      "Eth2 State:\n\tSlot: 38\n\tPrev. Eth1 Block: 0x83e59fb2f65c04524e379d831dcf58bb9d835a0555d5d80dffb632adcac7615e\n\tEth1 Block #9\n\t\tParent Hash:\t0xd9c04df336b521d5efe3141be789526fe89924946b84ace62bf1cfde6cbdbbe7\n\t\tBlock Hash:\t0x83e59fb2f65c04524e379d831dcf58bb9d835a0555d5d80dffb632adcac7615e\n\t\tBlock Score:\t10\n"
     ]
    }
   ],
   "source": [
    "# TRANSITION_TOTAL_DIFFICULTY is set to 10\n",
    "# eth1_blocks[7] is the last PoW block\n",
    "# eth1_blocks[8] is the first transition block\n",
    "\n",
    "block = build_empty_block_for_next_slot(spec, state)\n",
    "# Fill in the last PoW mined block\n",
    "block.body.application_block_hash = eth1_blocks[8].hash\n",
    "signed_block = state_transition_and_sign_block(spec, state, block)\n",
    "print_eth2_state(state)"
   ]
  },
  {
   "cell_type": "markdown",
   "metadata": {},
   "source": [
    "## The Merge has happened!\n",
    "## The last PoW block has been included in the Eth2 chain.\n",
    "## All future Eth1 blocks will be produced by Eth2 PoS validator."
   ]
  },
  {
   "cell_type": "code",
   "execution_count": 7,
   "metadata": {},
   "outputs": [
    {
     "output_type": "stream",
     "name": "stdout",
     "text": [
      "Eth2 State:\n",
      "\tSlot: 39\n",
      "\tPrev. Eth1 Block: 0xaa5d56dd12d03563deabc79f80799d8dd6b64401d42315532b4d43a92ba2d97a\n",
      "\tEth1 Block #10\n",
      "\t\tParent Hash:\t0x83e59fb2f65c04524e379d831dcf58bb9d835a0555d5d80dffb632adcac7615e\n",
      "\t\tBlock Hash:\t0xaa5d56dd12d03563deabc79f80799d8dd6b64401d42315532b4d43a92ba2d97a\n",
      "\t\tBlock Score:\t11\n",
      "Eth2 State:\n",
      "\tSlot: 40\n",
      "\tPrev. Eth1 Block: 0x43f21c5c0c2bdfadb2f84c9fe8668cc6660abb372704289e0560d0aef7cafb1d\n",
      "\tEth1 Block #11\n",
      "\t\tParent Hash:\t0xaa5d56dd12d03563deabc79f80799d8dd6b64401d42315532b4d43a92ba2d97a\n",
      "\t\tBlock Hash:\t0x43f21c5c0c2bdfadb2f84c9fe8668cc6660abb372704289e0560d0aef7cafb1d\n",
      "\t\tBlock Score:\t12\n",
      "Eth2 State:\n",
      "\tSlot: 41\n",
      "\tPrev. Eth1 Block: 0x65b3f273f831c3baa5fb0c7bb13387b3be73fadf1c12c4da1f2740961786e9ab\n",
      "\tEth1 Block #12\n",
      "\t\tParent Hash:\t0x43f21c5c0c2bdfadb2f84c9fe8668cc6660abb372704289e0560d0aef7cafb1d\n",
      "\t\tBlock Hash:\t0x65b3f273f831c3baa5fb0c7bb13387b3be73fadf1c12c4da1f2740961786e9ab\n",
      "\t\tBlock Score:\t13\n",
      "Eth2 State:\n",
      "\tSlot: 42\n",
      "\tPrev. Eth1 Block: 0xedac74fd5c82566663008567c1d434ff32d2acf09b8e551f4fdc86715bbb397f\n",
      "\tEth1 Block #13\n",
      "\t\tParent Hash:\t0x65b3f273f831c3baa5fb0c7bb13387b3be73fadf1c12c4da1f2740961786e9ab\n",
      "\t\tBlock Hash:\t0xedac74fd5c82566663008567c1d434ff32d2acf09b8e551f4fdc86715bbb397f\n",
      "\t\tBlock Score:\t14\n",
      "Eth2 State:\n",
      "\tSlot: 43\n",
      "\tPrev. Eth1 Block: 0xf6126a49b5534a63b4728586169363fcd27eb2be1493cf1e8806ac8221488a7b\n",
      "\tEth1 Block #14\n",
      "\t\tParent Hash:\t0xedac74fd5c82566663008567c1d434ff32d2acf09b8e551f4fdc86715bbb397f\n",
      "\t\tBlock Hash:\t0xf6126a49b5534a63b4728586169363fcd27eb2be1493cf1e8806ac8221488a7b\n",
      "\t\tBlock Score:\t15\n"
     ]
    }
   ],
   "source": [
    "# Progress the Eth2 chain after the merge\n",
    "for i in range(5):\n",
    "    block = build_empty_block_for_next_slot(spec, state)\n",
    "    # The eth1_rpc.mine_block() call in the next line is run by the Eth2 validator on its Eth1 node.\n",
    "    # These blocks are not PoW intensive -- their difficulty will be 1.\n",
    "    block.body.application_block_hash = eth1_rpc.mine_block().hash\n",
    "    signed_block = state_transition_and_sign_block(spec, state, block)\n",
    "    print_eth2_state(state)"
   ]
  },
  {
   "cell_type": "code",
   "execution_count": 8,
   "metadata": {},
   "outputs": [
    {
     "output_type": "stream",
     "name": "stdout",
     "text": [
      "Block #15-0x31bc..8082\nBlock #18-0x54ff..87c8\n"
     ]
    }
   ],
   "source": [
    "def set_head(chain, block):\n",
    "    chain.import_block(block)\n",
    "    chain.headerdb._set_as_canonical_chain_head(chain.headerdb.db, block.header, GENESIS_PARENT_HASH)\n",
    "    chain.header = chain.create_header_from_parent(block.header)\n",
    "    return chain.get_block_by_header(chain.get_canonical_head())\n",
    "\n",
    "c1, c2 = builder.build(\n",
    "    eth1_rpc.chain,\n",
    "    builder.chain_split(\n",
    "        (builder.mine_block(extra_data=b'chain-c1'),),\n",
    "        (builder.mine_block(extra_data=b'chain-c2'), builder.mine_block(extra_data=b'1'), builder.mine_block(extra_data=b'2'), builder.mine_block(extra_data=b'3')),\n",
    "    )\n",
    ")\n",
    "b1 = c1.get_block_by_header(c1.get_canonical_head())\n",
    "b2 = c2.get_block_by_header(c2.get_canonical_head())\n",
    "print(b1)\n",
    "print(b2)"
   ]
  },
  {
   "cell_type": "code",
   "execution_count": 9,
   "metadata": {},
   "outputs": [
    {
     "output_type": "stream",
     "name": "stdout",
     "text": [
      "Block #16-0x5aeb..92fe\n"
     ]
    }
   ],
   "source": [
    "# print(c2.get_block_by_header(c2.get_canonical_head()))\n",
    "print(c2.get_canonical_block_by_number(16))"
   ]
  },
  {
   "cell_type": "code",
   "execution_count": 10,
   "metadata": {},
   "outputs": [
    {
     "output_type": "execute_result",
     "data": {
      "text/plain": [
       "<IstanbulBlock(#Block #15-0x31bc..8082)>"
      ]
     },
     "metadata": {},
     "execution_count": 10
    }
   ],
   "source": [
    "set_head(c2, b1)"
   ]
  },
  {
   "cell_type": "code",
   "execution_count": 11,
   "metadata": {},
   "outputs": [
    {
     "output_type": "stream",
     "name": "stdout",
     "text": [
      "Block #15-0x31bc..8082\n"
     ]
    }
   ],
   "source": [
    "print(c2.get_block_by_header(c2.get_canonical_head()))"
   ]
  },
  {
   "cell_type": "code",
   "execution_count": 12,
   "metadata": {},
   "outputs": [
    {
     "output_type": "stream",
     "name": "stdout",
     "text": [
      "Block #16-0x0271..2a52\n"
     ]
    }
   ],
   "source": [
    "c2 = builder.build(\n",
    "    c2,\n",
    "    builder.mine_block(extra_data=b'newblk')\n",
    ")\n",
    "block = c2.get_block_by_header(c2.get_canonical_head())\n",
    "print(block)"
   ]
  },
  {
   "cell_type": "code",
   "execution_count": 13,
   "metadata": {},
   "outputs": [
    {
     "output_type": "execute_result",
     "data": {
      "text/plain": [
       "b'\\x02q\\xab\\xf5\\x96\\xc3A\\x83(\\xf0W\\x17\\x89\\x0b\\xd4\\x87\\x89\\xf26o\\xabF\\x12\\x1c\\x98|z\\xc0\\xe3\\xef*R'"
      ]
     },
     "metadata": {},
     "execution_count": 13
    }
   ],
   "source": [
    "block.header.hash"
   ]
  }
 ],
 "metadata": {
  "kernelspec": {
   "display_name": "merge-spec-poc",
   "language": "python",
   "name": "merge-spec-poc"
  },
  "language_info": {
   "codemirror_mode": {
    "name": "ipython",
    "version": 3
   },
   "file_extension": ".py",
   "mimetype": "text/x-python",
   "name": "python",
   "nbconvert_exporter": "python",
   "pygments_lexer": "ipython3",
   "version": "3.8.5-final"
  }
 },
 "nbformat": 4,
 "nbformat_minor": 4
}