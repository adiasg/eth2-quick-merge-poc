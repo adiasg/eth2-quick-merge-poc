{
 "cells": [
  {
   "cell_type": "markdown",
   "metadata": {},
   "source": [
    "# Ethereum 2.0 Merge Proof-of-Concept\n",
    "\n",
    "This notebook provides a proof-of-concept for the [Ethereum 2.0 Quick Merge Proposal](https://notes.ethereum.org/@vbuterin/B1mUf6DXO). A notable difference from the proposal is that Eth2 blocks in this PoC only contain Eth1 block hashes, instead of complete Eth1 blocks.\n",
    "\n",
    "An unchanged Eth1 spec (from `py-evm`) has been used here.\n",
    "The Eth2 spec has been slightly modified, and can be found in [this branch on `eth2.0-specs`](https://github.com/ethereum/eth2.0-specs/compare/adiasg-quick-merge-poc).\n",
    "\n",
    "## Prerequisites\n",
    "- Python3, Jupyter Notebook\n",
    "- Run `make install` to:\n",
    "    - create a venv.\n",
    "    - download and install Eth1 & Eth2 python modules in the venv.\n",
    "    - install this repo as a local package in the venv.\n",
    "    - install the venv as a kernel (named `merge-spec-poc`) for Jupyter notebook.\n",
    "- Choose the `merge-spec-poc` kernel to execute this Jupyter notebook.\n",
    "\n",
    "## Other Merge Specification Efforts\n",
    "- Mikhail Kalinin: https://github.com/ethereum/eth2.0-specs/pull/2257"
   ]
  },
  {
   "cell_type": "code",
   "execution_count": 1,
   "metadata": {
    "scrolled": true
   },
   "outputs": [
    {
     "name": "stdout",
     "output_type": "stream",
     "text": [
      "Eth1 Block #9\n",
      "\tParent Hash:\t0x72ef2df3c13e504f97b5be521e958daf9f62e2e0692b3223c9cba2f211406587\n",
      "\tBlock Hash:\t0x2ba0808e07a82deea42a1d5383c72faf83204b407d0ebbcb21291532dcfb04f0\n",
      "\tBlock Score:\t10\n"
     ]
    }
   ],
   "source": [
    "from eth1 import Eth1Rpc\n",
    "from eth.chains.base import MiningChain, Chain\n",
    "from eth.vm.forks import IstanbulVM\n",
    "import eth.tools.builder.chain as builder\n",
    "        \n",
    "# Initialize Eth1 chain builder\n",
    "Eth1Chain = builder.build(MiningChain, builder.fork_at(IstanbulVM, 0))\n",
    "Eth1Chain = builder.enable_pow_mining(Eth1Chain)\n",
    "eth1_rpc = Eth1Rpc(Eth1Chain)\n",
    "\n",
    "# Build a short Eth1 chain\n",
    "eth1_blocks = [eth1_rpc.consensus_assembleBlock() for i in range(9)]\n",
    "eth1_rpc.print_block(eth1_blocks[-1])"
   ]
  },
  {
   "cell_type": "code",
   "execution_count": 2,
   "metadata": {},
   "outputs": [],
   "source": [
    "import eth2spec.phase0.spec as spec\n",
    "\n",
    "# Fill in the Eth1 RPC functions into the Eth2 state transition logic\n",
    "\n",
    "def _is_valid_eth1_block(eth1_block_hash: spec.Bytes32) -> bool:\n",
    "    assert eth1_rpc.is_accepted_block(eth1_block_hash)\n",
    "    assert eth1_rpc.get_score(eth1_block_hash) >= spec.TRANSITION_TOTAL_DIFFICULTY\n",
    "    return True\n",
    "\n",
    "def _is_eth1_parent_block(parent_block_hash: spec.Bytes32, current_block_hash: spec.Bytes32) -> bool:\n",
    "    assert eth1_rpc.is_parent_block(parent_block_hash, current_block_hash)\n",
    "    return True\n",
    "\n",
    "spec.is_valid_eth1_block = _is_valid_eth1_block\n",
    "spec.is_eth1_parent_block = _is_eth1_parent_block"
   ]
  },
  {
   "cell_type": "code",
   "execution_count": 3,
   "metadata": {},
   "outputs": [],
   "source": [
    "# Eth2 chain building tools\n",
    "from eth2spec.test.helpers import genesis\n",
    "\n",
    "genesis_state = genesis.create_genesis_state(spec, [32*10**9 for i in range(100)], 16*10**9)\n",
    "genesis_block = spec.BeaconBlock(state_root=genesis_state.hash_tree_root())\n",
    "store = spec.get_forkchoice_store(genesis_state, genesis_block)"
   ]
  },
  {
   "cell_type": "code",
   "execution_count": 4,
   "metadata": {},
   "outputs": [
    {
     "name": "stdout",
     "output_type": "stream",
     "text": [
      "Eth2 State:\n",
      "\tSlot: 37\n",
      "\tPrev. Eth1 Block: 0x0000000000000000000000000000000000000000000000000000000000000000\n"
     ]
    }
   ],
   "source": [
    "from eth2spec.test.helpers.block import build_empty_block_for_next_slot, sign_block\n",
    "from eth2spec.test.helpers.state import state_transition_and_sign_block, next_epoch\n",
    "\n",
    "# Push the Eth2 state to some arbitraty slot\n",
    "time = spec.SECONDS_PER_SLOT * 1000\n",
    "spec.on_tick(store, time)\n",
    "state = genesis_state.copy()\n",
    "next_epoch(spec, state)\n",
    "\n",
    "# Build a short Eth2 chain\n",
    "for i in range(5):\n",
    "    block = build_empty_block_for_next_slot(spec, state)\n",
    "    block.body.application_block_hash = spec.ZERO_HASH\n",
    "    signed_block = state_transition_and_sign_block(spec, state, block)\n",
    "\n",
    "def print_eth2_state(state):\n",
    "    print(\"Eth2 State:\")\n",
    "    print(f\"\\tSlot: {state.slot}\")\n",
    "    print(f\"\\tPrev. Eth1 Block: {state.previous_application_block_hash}\")\n",
    "    if state.previous_application_block_hash != spec.ZERO_HASH:\n",
    "        eth1_rpc.print_block(eth1_rpc.chain.get_block_by_hash(state.previous_application_block_hash), \"\\t\")\n",
    "\n",
    "# This is the Eth2 state before the merge\n",
    "print_eth2_state(state)"
   ]
  },
  {
   "cell_type": "code",
   "execution_count": 5,
   "metadata": {},
   "outputs": [
    {
     "name": "stdout",
     "output_type": "stream",
     "text": [
      "Eth2 State:\n",
      "\tSlot: 38\n",
      "\tPrev. Eth1 Block: 0x2ba0808e07a82deea42a1d5383c72faf83204b407d0ebbcb21291532dcfb04f0\n",
      "\tEth1 Block #9\n",
      "\t\tParent Hash:\t0x72ef2df3c13e504f97b5be521e958daf9f62e2e0692b3223c9cba2f211406587\n",
      "\t\tBlock Hash:\t0x2ba0808e07a82deea42a1d5383c72faf83204b407d0ebbcb21291532dcfb04f0\n",
      "\t\tBlock Score:\t10\n"
     ]
    }
   ],
   "source": [
    "# TRANSITION_TOTAL_DIFFICULTY is set to 10\n",
    "# eth1_blocks[7] is the last PoW block\n",
    "# eth1_blocks[8] is the first transition block\n",
    "\n",
    "block = build_empty_block_for_next_slot(spec, state)\n",
    "# Fill in the last PoW mined block\n",
    "block.body.application_block_hash = eth1_blocks[8].hash\n",
    "signed_block = state_transition_and_sign_block(spec, state, block)\n",
    "print_eth2_state(state)"
   ]
  },
  {
   "cell_type": "markdown",
   "metadata": {},
   "source": [
    "## The Merge has happened!\n",
    "## The last PoW block has been included in the Eth2 chain.\n",
    "## All future Eth1 blocks will be produced by Eth2 PoS validator."
   ]
  },
  {
   "cell_type": "code",
   "execution_count": 6,
   "metadata": {},
   "outputs": [
    {
     "name": "stdout",
     "output_type": "stream",
     "text": [
      "Eth2 State:\n",
      "\tSlot: 39\n",
      "\tPrev. Eth1 Block: 0x71551c99521d285c0f2687930b3f2e5c2f0dee3e309a409df6b7dad4fe51c824\n",
      "\tEth1 Block #10\n",
      "\t\tParent Hash:\t0x2ba0808e07a82deea42a1d5383c72faf83204b407d0ebbcb21291532dcfb04f0\n",
      "\t\tBlock Hash:\t0x71551c99521d285c0f2687930b3f2e5c2f0dee3e309a409df6b7dad4fe51c824\n",
      "\t\tBlock Score:\t11\n",
      "Eth2 State:\n",
      "\tSlot: 40\n",
      "\tPrev. Eth1 Block: 0x20dcee87d415c181fdb892d7b3737f13257b266766939477ef90caede7534d05\n",
      "\tEth1 Block #11\n",
      "\t\tParent Hash:\t0x71551c99521d285c0f2687930b3f2e5c2f0dee3e309a409df6b7dad4fe51c824\n",
      "\t\tBlock Hash:\t0x20dcee87d415c181fdb892d7b3737f13257b266766939477ef90caede7534d05\n",
      "\t\tBlock Score:\t12\n",
      "Eth2 State:\n",
      "\tSlot: 41\n",
      "\tPrev. Eth1 Block: 0x7d47d62ba5fa9343b3c48c10deecb43ab1f5babfdb7e856060e80a6e45b94b60\n",
      "\tEth1 Block #12\n",
      "\t\tParent Hash:\t0x20dcee87d415c181fdb892d7b3737f13257b266766939477ef90caede7534d05\n",
      "\t\tBlock Hash:\t0x7d47d62ba5fa9343b3c48c10deecb43ab1f5babfdb7e856060e80a6e45b94b60\n",
      "\t\tBlock Score:\t13\n",
      "Eth2 State:\n",
      "\tSlot: 42\n",
      "\tPrev. Eth1 Block: 0x0dc4d00ff7f7bd810846a98c4d9bceccb8ee14ed4ab88a986a26b05d959ae11c\n",
      "\tEth1 Block #13\n",
      "\t\tParent Hash:\t0x7d47d62ba5fa9343b3c48c10deecb43ab1f5babfdb7e856060e80a6e45b94b60\n",
      "\t\tBlock Hash:\t0x0dc4d00ff7f7bd810846a98c4d9bceccb8ee14ed4ab88a986a26b05d959ae11c\n",
      "\t\tBlock Score:\t14\n",
      "Eth2 State:\n",
      "\tSlot: 43\n",
      "\tPrev. Eth1 Block: 0x3ff62d9bc2d2fe9ba314e43fd39dc8651bf53759d8ef98f351634834c630e71b\n",
      "\tEth1 Block #14\n",
      "\t\tParent Hash:\t0x0dc4d00ff7f7bd810846a98c4d9bceccb8ee14ed4ab88a986a26b05d959ae11c\n",
      "\t\tBlock Hash:\t0x3ff62d9bc2d2fe9ba314e43fd39dc8651bf53759d8ef98f351634834c630e71b\n",
      "\t\tBlock Score:\t15\n"
     ]
    }
   ],
   "source": [
    "# Progress the Eth2 chain after the merge\n",
    "for i in range(5):\n",
    "    block = build_empty_block_for_next_slot(spec, state)\n",
    "    # The eth1_rpc.mine_block() call in the next line is run by the Eth2 validator on its Eth1 node.\n",
    "    # These blocks are not PoW intensive -- their difficulty will be 1.\n",
    "    block.body.application_block_hash = eth1_rpc.consensus_assembleBlock().hash\n",
    "    signed_block = state_transition_and_sign_block(spec, state, block)\n",
    "    print_eth2_state(state)"
   ]
  }
 ],
 "metadata": {
  "kernelspec": {
   "display_name": "merge-spec-poc",
   "language": "python",
   "name": "merge-spec-poc"
  },
  "language_info": {
   "codemirror_mode": {
    "name": "ipython",
    "version": 3
   },
   "file_extension": ".py",
   "mimetype": "text/x-python",
   "name": "python",
   "nbconvert_exporter": "python",
   "pygments_lexer": "ipython3",
   "version": "3.8.5"
  }
 },
 "nbformat": 4,
 "nbformat_minor": 4
}
