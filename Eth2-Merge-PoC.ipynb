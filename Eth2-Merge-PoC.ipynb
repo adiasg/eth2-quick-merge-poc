{
 "cells": [
  {
   "cell_type": "markdown",
   "metadata": {},
   "source": [
    "# Ethereum 2.0 Merge Proof-of-Concept\n",
    "\n",
    "This notebook provides a proof-of-concept for the Ethereum 2.0 Quick Merge Proposal ([Official Spec](https://github.com/ethereum/eth2.0-specs/tree/dev/specs/merge), [Vitalik's initial post](https://notes.ethereum.org/@vbuterin/B1mUf6DXO)).\n",
    "\n",
    "The following Ethereum specs have been used:\n",
    "- [`py-evm`](https://github.com/ethereum/py-evm)\n",
    "- [Eth2 Merge Spec](https://github.com/ethereum/eth2.0-specs/tree/dev/specs/merge)\n",
    "\n",
    "## Prerequisites\n",
    "- Python3, Jupyter Notebook\n",
    "- Run `make install` to:\n",
    "    - create a venv.\n",
    "    - download and install Eth1 & Eth2 python modules in the venv.\n",
    "    - install this repo as a local package in the venv.\n",
    "    - install the venv as a kernel (named `merge-spec-poc`) for Jupyter notebook.\n",
    "- Choose the `merge-spec-poc` kernel to execute this Jupyter notebook."
   ]
  },
  {
   "cell_type": "code",
   "execution_count": 1,
   "metadata": {
    "scrolled": true
   },
   "outputs": [
    {
     "output_type": "stream",
     "name": "stdout",
     "text": [
      "Eth1 Block #9\n\tParent Hash:\t0x9e6ba8ba92933407dc9bf4a559de2033f3b314817bd409b5743596560681ef6c\n\tBlock Hash:\t0x373cbe207d0c31e865a4306d672bd375defaf469a02435ad775437572530f99c\n\tBlock Score:\t10\n"
     ]
    }
   ],
   "source": [
    "from eth1 import Eth1Rpc\n",
    "from eth.chains.base import MiningChain, Chain\n",
    "from eth.vm.forks import IstanbulVM\n",
    "import eth.tools.builder.chain as builder\n",
    "        \n",
    "# Initialize Eth1 chain builder\n",
    "Eth1Chain = builder.build(MiningChain, builder.fork_at(IstanbulVM, 0))\n",
    "Eth1Chain = builder.enable_pow_mining(Eth1Chain)\n",
    "eth1_rpc = Eth1Rpc(Eth1Chain)\n",
    "\n",
    "# Build a short Eth1 chain\n",
    "eth1_blocks = [eth1_rpc.consensus_assembleBlock() for i in range(9)]\n",
    "eth1_rpc.print_block(eth1_blocks[-1])"
   ]
  },
  {
   "cell_type": "code",
   "execution_count": 2,
   "metadata": {},
   "outputs": [],
   "source": [
    "import eth2spec.merge.spec as spec\n",
    "\n",
    "# Set TRANSITION_TOTAL_DIFFICULTY\n",
    "spec.TRANSITION_TOTAL_DIFFICULTY = 10\n",
    "\n",
    "# Define verify_execution_state_transition\n",
    "def _verify_execution_state_transition(execution_payload: spec.ExecutionPayload) -> bool:\n",
    "    # Assumption: Eth1 p2p has gossiped the block already\n",
    "    return eth1_rpc.is_accepted_block(execution_payload.block_hash)\n",
    "\n",
    "def _get_pow_block(block_hash: spec.Hash32) -> spec.PowBlock:\n",
    "    pow_block = spec.PowBlock(\n",
    "        block_hash=block_hash,\n",
    "        is_processed=False,\n",
    "        is_valid=False,\n",
    "        total_difficulty=0,\n",
    "    )\n",
    "    if eth1_rpc.is_accepted_block(block_hash):\n",
    "        block = eth1_rpc.get_block_by_hash(block_hash)\n",
    "        pow_block.is_processed = True\n",
    "        pow_block.is_valid = True\n",
    "        pow_block.total_difficulty = eth1_rpc.get_score(block_hash)\n",
    "    return pow_block\n",
    "\n",
    "spec.verify_execution_state_transition = _verify_execution_state_transition\n",
    "spec.get_pow_block = _get_pow_block"
   ]
  },
  {
   "cell_type": "code",
   "execution_count": 3,
   "metadata": {},
   "outputs": [],
   "source": [
    "# Eth2 chain building tools\n",
    "from eth2spec.test.helpers import genesis\n",
    "\n",
    "genesis_state = genesis.create_genesis_state(spec, [32*10**9 for i in range(100)], 16*10**9)\n",
    "genesis_block = spec.BeaconBlock(state_root=genesis_state.hash_tree_root())\n",
    "store = spec.get_forkchoice_store(genesis_state, genesis_block)"
   ]
  },
  {
   "cell_type": "code",
   "execution_count": 4,
   "metadata": {},
   "outputs": [
    {
     "output_type": "stream",
     "name": "stdout",
     "text": [
      "Eth2 State:\n\tSlot: 37\n\tPrev. Eth1 Block: 0x0000000000000000000000000000000000000000000000000000000000000000\n"
     ]
    }
   ],
   "source": [
    "from eth2spec.test.helpers.block import build_empty_block_for_next_slot, sign_block\n",
    "from eth2spec.test.helpers.state import state_transition_and_sign_block, next_epoch\n",
    "\n",
    "# Push the Eth2 state to some arbitraty slot\n",
    "time = spec.SECONDS_PER_SLOT * 1000\n",
    "spec.on_tick(store, time)\n",
    "state = genesis_state.copy()\n",
    "next_epoch(spec, state)\n",
    "\n",
    "# Build a short Eth2 chain\n",
    "for i in range(5):\n",
    "    block = build_empty_block_for_next_slot(spec, state)\n",
    "    block.body.execution_payload = spec.ExecutionPayload()\n",
    "    signed_block = state_transition_and_sign_block(spec, state, block)\n",
    "\n",
    "def print_eth2_state(state):\n",
    "    print(\"Eth2 State:\")\n",
    "    print(f\"\\tSlot: {state.slot}\")\n",
    "    print(f\"\\tPrev. Eth1 Block: {state.latest_execution_payload_header.parent_hash}\")\n",
    "    if spec.is_transition_completed(state):\n",
    "        eth1_rpc.print_block(eth1_rpc.chain.get_block_by_hash(state.latest_execution_payload_header.block_hash), \"\\t\")\n",
    "\n",
    "# This is the Eth2 state before the merge\n",
    "print_eth2_state(state)"
   ]
  },
  {
   "cell_type": "code",
   "execution_count": 5,
   "metadata": {},
   "outputs": [
    {
     "output_type": "stream",
     "name": "stdout",
     "text": [
      "Eth2 State:\n\tSlot: 38\n\tPrev. Eth1 Block: 0x9e6ba8ba92933407dc9bf4a559de2033f3b314817bd409b5743596560681ef6c\n\tEth1 Block #9\n\t\tParent Hash:\t0x9e6ba8ba92933407dc9bf4a559de2033f3b314817bd409b5743596560681ef6c\n\t\tBlock Hash:\t0x373cbe207d0c31e865a4306d672bd375defaf469a02435ad775437572530f99c\n\t\tBlock Score:\t10\n"
     ]
    }
   ],
   "source": [
    "def package_execution_payload(eth1_block):\n",
    "    return spec.ExecutionPayload(\n",
    "            block_hash=eth1_block.hash,\n",
    "            parent_hash=eth1_block.header.parent_hash,\n",
    "            coinbase=eth1_block.header.coinbase,\n",
    "            state_root=eth1_block.header.state_root,\n",
    "            number=eth1_block.header.block_number,\n",
    "            gas_limit=eth1_block.header.gas_limit,\n",
    "            gas_used=eth1_block.header.gas_used,\n",
    "            timestamp=eth1_block.header.timestamp,\n",
    "            receipt_root=eth1_block.header.receipt_root,\n",
    "            # logs_bloom: ByteVector[BYTES_PER_LOGS_BLOOM]\n",
    "            # transactions: List[OpaqueTransaction, MAX_APPLICATION_TRANSACTIONS]\n",
    "        )\n",
    "\n",
    "# TRANSITION_TOTAL_DIFFICULTY is set to 10\n",
    "# eth1_blocks[7] is the last PoW block\n",
    "# eth1_blocks[8] is the first transition block\n",
    "\n",
    "block = build_empty_block_for_next_slot(spec, state)\n",
    "# Fill in the last PoW mined block\n",
    "block.body.execution_payload = package_execution_payload(eth1_blocks[8])\n",
    "block.body.execution_payload.timestamp = spec.compute_time_at_slot(state, state.slot+1)\n",
    "signed_block = state_transition_and_sign_block(spec, state, block)\n",
    "print_eth2_state(state)"
   ]
  },
  {
   "cell_type": "markdown",
   "metadata": {},
   "source": [
    "## The Merge has happened!\n",
    "## The last PoW block has been included in the Eth2 chain.\n",
    "## All future Eth1 blocks will be produced by Eth2 PoS validator."
   ]
  },
  {
   "cell_type": "code",
   "execution_count": 6,
   "metadata": {},
   "outputs": [
    {
     "output_type": "stream",
     "name": "stdout",
     "text": [
      "Eth2 State:\n",
      "\tSlot: 39\n",
      "\tPrev. Eth1 Block: 0x373cbe207d0c31e865a4306d672bd375defaf469a02435ad775437572530f99c\n",
      "\tEth1 Block #10\n",
      "\t\tParent Hash:\t0x373cbe207d0c31e865a4306d672bd375defaf469a02435ad775437572530f99c\n",
      "\t\tBlock Hash:\t0x2bb2d2c1188d68ece91b4793516d68bb367de0cad33406bdf57e31985213a670\n",
      "\t\tBlock Score:\t11\n",
      "Eth2 State:\n",
      "\tSlot: 40\n",
      "\tPrev. Eth1 Block: 0x2bb2d2c1188d68ece91b4793516d68bb367de0cad33406bdf57e31985213a670\n",
      "\tEth1 Block #11\n",
      "\t\tParent Hash:\t0x2bb2d2c1188d68ece91b4793516d68bb367de0cad33406bdf57e31985213a670\n",
      "\t\tBlock Hash:\t0x3fe32a953b623ea50eccd4bce329e9994df54ea04cb212ddc2e3739c2fae9b87\n",
      "\t\tBlock Score:\t12\n",
      "Eth2 State:\n",
      "\tSlot: 41\n",
      "\tPrev. Eth1 Block: 0x3fe32a953b623ea50eccd4bce329e9994df54ea04cb212ddc2e3739c2fae9b87\n",
      "\tEth1 Block #12\n",
      "\t\tParent Hash:\t0x3fe32a953b623ea50eccd4bce329e9994df54ea04cb212ddc2e3739c2fae9b87\n",
      "\t\tBlock Hash:\t0x30cc3c2118862348077f1eceaf0c0c9489421bdcffc9de411aa0c5e9a4b83d54\n",
      "\t\tBlock Score:\t13\n",
      "Eth2 State:\n",
      "\tSlot: 42\n",
      "\tPrev. Eth1 Block: 0x30cc3c2118862348077f1eceaf0c0c9489421bdcffc9de411aa0c5e9a4b83d54\n",
      "\tEth1 Block #13\n",
      "\t\tParent Hash:\t0x30cc3c2118862348077f1eceaf0c0c9489421bdcffc9de411aa0c5e9a4b83d54\n",
      "\t\tBlock Hash:\t0x352f0242c6cdd066670c38dc663196a79dbdc279e0f9c087799d211ba11c7eea\n",
      "\t\tBlock Score:\t14\n",
      "Eth2 State:\n",
      "\tSlot: 43\n",
      "\tPrev. Eth1 Block: 0x352f0242c6cdd066670c38dc663196a79dbdc279e0f9c087799d211ba11c7eea\n",
      "\tEth1 Block #14\n",
      "\t\tParent Hash:\t0x352f0242c6cdd066670c38dc663196a79dbdc279e0f9c087799d211ba11c7eea\n",
      "\t\tBlock Hash:\t0xb1fbe45b85523c7441cf124dacb6cba1724c984673cab91557f0d10a7e232650\n",
      "\t\tBlock Score:\t15\n"
     ]
    }
   ],
   "source": [
    "# Progress the Eth2 chain after the merge\n",
    "for i in range(5):\n",
    "    block = build_empty_block_for_next_slot(spec, state)\n",
    "    # The eth1_rpc.mine_block() call in the next line is run by the Eth2 validator on its Eth1 node.\n",
    "    # These blocks are not PoW intensive -- their difficulty will be 1.\n",
    "    eth1_block = eth1_rpc.consensus_assembleBlock()\n",
    "    block.body.execution_payload = package_execution_payload(eth1_block)\n",
    "    block.body.execution_payload.timestamp = spec.compute_time_at_slot(state, state.slot+1)\n",
    "    signed_block = state_transition_and_sign_block(spec, state, block)\n",
    "    print_eth2_state(state)"
   ]
  }
 ],
 "metadata": {
  "kernelspec": {
   "display_name": "merge-spec-poc",
   "language": "python",
   "name": "merge-spec-poc"
  },
  "language_info": {
   "codemirror_mode": {
    "name": "ipython",
    "version": 3
   },
   "file_extension": ".py",
   "mimetype": "text/x-python",
   "name": "python",
   "nbconvert_exporter": "python",
   "pygments_lexer": "ipython3",
   "version": "3.8.5-final"
  }
 },
 "nbformat": 4,
 "nbformat_minor": 4
}