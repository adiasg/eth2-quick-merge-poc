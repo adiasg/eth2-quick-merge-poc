{
 "cells": [
  {
   "cell_type": "markdown",
   "metadata": {},
   "source": [
    "# Ethereum 2.0 Merge Proof-of-Concept\n",
    "\n",
    "This notebook provides a proof-of-concept for the [Ethereum 2.0 Quick Merge Proposal](https://notes.ethereum.org/@vbuterin/B1mUf6DXO). A notable difference from the proposal is that Eth2 blocks in this PoC only contain Eth1 block hashes, instead of complete Eth1 blocks.\n",
    "\n",
    "An unchanged Eth1 spec (from `py-evm`) has been used here.\n",
    "The Eth2 spec has been slightly modified, and can be found in [this branch on `eth2.0-specs`](https://github.com/ethereum/eth2.0-specs/compare/adiasg-quick-merge-poc).\n",
    "\n",
    "## Prerequisites\n",
    "- Python3, Jupyter Notebook\n",
    "- Run `install.sh` to:\n",
    "    - download and install Eth1 & Eth2 python modules in a venv.\n",
    "    - install the venv as a kernel (named `merge-spec-poc`) for Jupyter notebook.\n",
    "- Choose the `merge-spec-poc` kernel to execute this Jupyter notebook.\n",
    "\n",
    "## Other Merge Specification Efforts\n",
    "- Mikhail Kalinin: https://github.com/ethereum/eth2.0-specs/pull/2257"
   ]
  },
  {
   "cell_type": "code",
   "execution_count": 1,
   "metadata": {
    "scrolled": true
   },
   "outputs": [
    {
     "name": "stdout",
     "output_type": "stream",
     "text": [
      "Eth1 Block #9\n",
      "\tParent Hash:\t0x3c4a1f10656ac7d85c74612a3503a2cb0aeb964c2b36424e594cb8c8add25e78\n",
      "\tBlock Hash:\t0x90ac62839de8ea2ccc92dcee07df59b6a49cf417d728cdd54be47520e05e6722\n",
      "\tBlock Score:\t10\n"
     ]
    }
   ],
   "source": [
    "# Eth1 (py-evm) imports\n",
    "from eth.chains.base import MiningChain, Chain\n",
    "from eth.vm.forks import IstanbulVM\n",
    "import eth.tools.builder.chain as builder\n",
    "from eth.exceptions import BlockNotFound, HeaderNotFound\n",
    "from eth_utils import encode_hex\n",
    "\n",
    "# These are the required RPC methods from the Eth1 node\n",
    "class Eth1Rpc:\n",
    "    def __init__(self, chain_class):\n",
    "        self.chain_class = chain_class\n",
    "        self.chain = builder.genesis(self.chain_class)\n",
    "    \n",
    "    def get_head_block(self):\n",
    "        return self.chain.get_block_by_header(self.chain.get_canonical_head())\n",
    "    \n",
    "    def is_parent_block(self, parent_hash, block_hash):\n",
    "        block = self.chain.get_block_by_hash(block_hash)\n",
    "        if block.header.parent_hash == parent_hash:\n",
    "            return True\n",
    "        return False\n",
    "    \n",
    "    def mine_block(self):\n",
    "        self.chain = builder.build(\n",
    "                            self.chain,\n",
    "                            builder.mine_block()\n",
    "                        )\n",
    "        return self.get_head_block()\n",
    "    \n",
    "    def is_accepted_block(self, block_hash):\n",
    "        try:\n",
    "            self.chain.get_block_by_hash(block_hash)\n",
    "            return True\n",
    "        except HeaderNotFound:\n",
    "            return False\n",
    "    \n",
    "    def get_score(self, block_hash):\n",
    "        return self.chain.get_score(block_hash)\n",
    "        \n",
    "# Initialize Eth1 chain builder\n",
    "Eth1Chain = builder.build(MiningChain, builder.fork_at(IstanbulVM, 0))\n",
    "Eth1Chain = builder.enable_pow_mining(Eth1Chain)\n",
    "eth1_rpc = Eth1Rpc(Eth1Chain)\n",
    "\n",
    "def print_eth1_block(block, prefix=\"\"):\n",
    "    print(f\"{prefix}Eth1 Block #{block.header.block_number}\")\n",
    "    print(f\"{prefix}\\tParent Hash:\\t{encode_hex(block.header.parent_hash)}\")\n",
    "    print(f\"{prefix}\\tBlock Hash:\\t{encode_hex(block.hash)}\")\n",
    "    print(f\"{prefix}\\tBlock Score:\\t{eth1_rpc.get_score(block.hash)}\")\n",
    "\n",
    "# Build a short Eth1 chain\n",
    "eth1_blocks = [eth1_rpc.mine_block() for i in range(9)]\n",
    "print_eth1_block(eth1_blocks[-1])"
   ]
  },
  {
   "cell_type": "code",
   "execution_count": 2,
   "metadata": {},
   "outputs": [],
   "source": [
    "import eth2spec.phase0.spec as spec\n",
    "\n",
    "# Fill in the Eth1 RPC functions into the Eth2 state transition logic\n",
    "\n",
    "def _is_valid_eth1_block(eth1_block_hash: spec.Bytes32) -> bool:\n",
    "    assert eth1_rpc.is_accepted_block(eth1_block_hash)\n",
    "    assert eth1_rpc.get_score(eth1_block_hash) >= spec.TRANSITION_TOTAL_DIFFICULTY\n",
    "    return True\n",
    "\n",
    "def _is_eth1_parent_block(parent_block_hash: spec.Bytes32, current_block_hash: spec.Bytes32) -> bool:\n",
    "    assert eth1_rpc.is_parent_block(parent_block_hash, current_block_hash)\n",
    "    return True\n",
    "\n",
    "spec.is_valid_eth1_block = _is_valid_eth1_block\n",
    "spec.is_eth1_parent_block = _is_eth1_parent_block"
   ]
  },
  {
   "cell_type": "code",
   "execution_count": 3,
   "metadata": {},
   "outputs": [],
   "source": [
    "# Eth2 chain building tools\n",
    "from eth2spec.test.helpers import genesis\n",
    "\n",
    "genesis_state = genesis.create_genesis_state(spec, [32*10**9 for i in range(100)], 16*10**9)\n",
    "genesis_block = spec.BeaconBlock(state_root=genesis_state.hash_tree_root())\n",
    "store = spec.get_forkchoice_store(genesis_state, genesis_block)"
   ]
  },
  {
   "cell_type": "code",
   "execution_count": 4,
   "metadata": {},
   "outputs": [
    {
     "name": "stdout",
     "output_type": "stream",
     "text": [
      "Eth2 State:\n",
      "\tSlot: 37\n",
      "\tPrev. Eth1 Block: 0x0000000000000000000000000000000000000000000000000000000000000000\n"
     ]
    }
   ],
   "source": [
    "from eth2spec.test.helpers.block import build_empty_block_for_next_slot, sign_block\n",
    "from eth2spec.test.helpers.state import state_transition_and_sign_block, next_epoch\n",
    "\n",
    "# Push the Eth2 state to some arbitraty slot\n",
    "time = spec.SECONDS_PER_SLOT * 1000\n",
    "spec.on_tick(store, time)\n",
    "state = genesis_state.copy()\n",
    "next_epoch(spec, state)\n",
    "\n",
    "# Build a short Eth2 chain\n",
    "for i in range(5):\n",
    "    block = build_empty_block_for_next_slot(spec, state)\n",
    "    block.body.application_block_hash = spec.ZERO_HASH\n",
    "    signed_block = state_transition_and_sign_block(spec, state, block)\n",
    "\n",
    "def print_eth2_state(state):\n",
    "    print(\"Eth2 State:\")\n",
    "    print(f\"\\tSlot: {state.slot}\")\n",
    "    print(f\"\\tPrev. Eth1 Block: {state.previous_application_block_hash}\")\n",
    "    if state.previous_application_block_hash != spec.ZERO_HASH:\n",
    "        print_eth1_block(eth1_rpc.chain.get_block_by_hash(state.previous_application_block_hash), \"\\t\")\n",
    "\n",
    "# This is the Eth2 state before the merge\n",
    "print_eth2_state(state)"
   ]
  },
  {
   "cell_type": "code",
   "execution_count": 5,
   "metadata": {},
   "outputs": [
    {
     "name": "stdout",
     "output_type": "stream",
     "text": [
      "Eth2 State:\n",
      "\tSlot: 38\n",
      "\tPrev. Eth1 Block: 0x90ac62839de8ea2ccc92dcee07df59b6a49cf417d728cdd54be47520e05e6722\n",
      "\tEth1 Block #9\n",
      "\t\tParent Hash:\t0x3c4a1f10656ac7d85c74612a3503a2cb0aeb964c2b36424e594cb8c8add25e78\n",
      "\t\tBlock Hash:\t0x90ac62839de8ea2ccc92dcee07df59b6a49cf417d728cdd54be47520e05e6722\n",
      "\t\tBlock Score:\t10\n"
     ]
    }
   ],
   "source": [
    "# TRANSITION_TOTAL_DIFFICULTY is set to 10\n",
    "# eth1_blocks[7] is the last PoW block\n",
    "# eth1_blocks[8] is the first transition block\n",
    "\n",
    "block = build_empty_block_for_next_slot(spec, state)\n",
    "# Fill in the last PoW mined block\n",
    "block.body.application_block_hash = eth1_blocks[8].hash\n",
    "signed_block = state_transition_and_sign_block(spec, state, block)\n",
    "print_eth2_state(state)"
   ]
  },
  {
   "cell_type": "markdown",
   "metadata": {},
   "source": [
    "## The Merge has happened!\n",
    "## The last PoW block has been included in the Eth2 chain.\n",
    "## All future Eth1 blocks will be produced by Eth2 PoS validator."
   ]
  },
  {
   "cell_type": "code",
   "execution_count": 6,
   "metadata": {},
   "outputs": [
    {
     "name": "stdout",
     "output_type": "stream",
     "text": [
      "Eth2 State:\n",
      "\tSlot: 39\n",
      "\tPrev. Eth1 Block: 0xfcc46d7b3374de5e576c2f7014a1d14acccdbf6f4d181f1d9a330a3a525d81c9\n",
      "\tEth1 Block #10\n",
      "\t\tParent Hash:\t0x90ac62839de8ea2ccc92dcee07df59b6a49cf417d728cdd54be47520e05e6722\n",
      "\t\tBlock Hash:\t0xfcc46d7b3374de5e576c2f7014a1d14acccdbf6f4d181f1d9a330a3a525d81c9\n",
      "\t\tBlock Score:\t11\n",
      "Eth2 State:\n",
      "\tSlot: 40\n",
      "\tPrev. Eth1 Block: 0x78ada8a9900cde6e4404a48ac2c22943065f6ce83adf40d1bf3bfdde22173578\n",
      "\tEth1 Block #11\n",
      "\t\tParent Hash:\t0xfcc46d7b3374de5e576c2f7014a1d14acccdbf6f4d181f1d9a330a3a525d81c9\n",
      "\t\tBlock Hash:\t0x78ada8a9900cde6e4404a48ac2c22943065f6ce83adf40d1bf3bfdde22173578\n",
      "\t\tBlock Score:\t12\n",
      "Eth2 State:\n",
      "\tSlot: 41\n",
      "\tPrev. Eth1 Block: 0xccc7d1a8493af921160dd4f84340ebedc72312105c13ff579ff2992a6381c702\n",
      "\tEth1 Block #12\n",
      "\t\tParent Hash:\t0x78ada8a9900cde6e4404a48ac2c22943065f6ce83adf40d1bf3bfdde22173578\n",
      "\t\tBlock Hash:\t0xccc7d1a8493af921160dd4f84340ebedc72312105c13ff579ff2992a6381c702\n",
      "\t\tBlock Score:\t13\n",
      "Eth2 State:\n",
      "\tSlot: 42\n",
      "\tPrev. Eth1 Block: 0x10d25a71139a3da5ead57c28242129170d9e9a60ef411da72aa5946d7d094c6f\n",
      "\tEth1 Block #13\n",
      "\t\tParent Hash:\t0xccc7d1a8493af921160dd4f84340ebedc72312105c13ff579ff2992a6381c702\n",
      "\t\tBlock Hash:\t0x10d25a71139a3da5ead57c28242129170d9e9a60ef411da72aa5946d7d094c6f\n",
      "\t\tBlock Score:\t14\n",
      "Eth2 State:\n",
      "\tSlot: 43\n",
      "\tPrev. Eth1 Block: 0xd2ba75926427b2a1249f1fa02d9cbdb3f8608143c24dea3b097d93efe33a2c66\n",
      "\tEth1 Block #14\n",
      "\t\tParent Hash:\t0x10d25a71139a3da5ead57c28242129170d9e9a60ef411da72aa5946d7d094c6f\n",
      "\t\tBlock Hash:\t0xd2ba75926427b2a1249f1fa02d9cbdb3f8608143c24dea3b097d93efe33a2c66\n",
      "\t\tBlock Score:\t15\n"
     ]
    }
   ],
   "source": [
    "# Progress the Eth2 chain after the merge\n",
    "for i in range(5):\n",
    "    block = build_empty_block_for_next_slot(spec, state)\n",
    "    # The eth1_rpc.mine_block() call in the next line is run by the Eth2 validator on its Eth1 node.\n",
    "    # These blocks are not PoW intensive -- their difficulty will be 1.\n",
    "    block.body.application_block_hash = eth1_rpc.mine_block().hash\n",
    "    signed_block = state_transition_and_sign_block(spec, state, block)\n",
    "    print_eth2_state(state)"
   ]
  }
 ],
 "metadata": {
  "kernelspec": {
   "display_name": "merge-spec-poc",
   "language": "python",
   "name": "merge-spec-poc"
  },
  "language_info": {
   "codemirror_mode": {
    "name": "ipython",
    "version": 3
   },
   "file_extension": ".py",
   "mimetype": "text/x-python",
   "name": "python",
   "nbconvert_exporter": "python",
   "pygments_lexer": "ipython3",
   "version": "3.8.5"
  }
 },
 "nbformat": 4,
 "nbformat_minor": 4
}
